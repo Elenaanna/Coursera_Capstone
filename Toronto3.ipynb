{
 "cells": [
  {
   "cell_type": "code",
   "execution_count": 1,
   "metadata": {},
   "outputs": [],
   "source": [
    "import pandas as pd"
   ]
  },
  {
   "cell_type": "code",
   "execution_count": 6,
   "metadata": {},
   "outputs": [],
   "source": [
    "html_string = 'https://en.wikipedia.org/w/index.php?title=List_of_postal_codes_of_Canada:_M&oldid=945633050.'"
   ]
  },
  {
   "cell_type": "code",
   "execution_count": 7,
   "metadata": {},
   "outputs": [],
   "source": [
    "dfs = pd.read_html(html_string)"
   ]
  },
  {
   "cell_type": "code",
   "execution_count": 9,
   "metadata": {},
   "outputs": [],
   "source": [
    "df = dfs[0]"
   ]
  },
  {
   "cell_type": "code",
   "execution_count": 10,
   "metadata": {},
   "outputs": [
    {
     "data": {
      "text/html": [
       "<div>\n",
       "<style scoped>\n",
       "    .dataframe tbody tr th:only-of-type {\n",
       "        vertical-align: middle;\n",
       "    }\n",
       "\n",
       "    .dataframe tbody tr th {\n",
       "        vertical-align: top;\n",
       "    }\n",
       "\n",
       "    .dataframe thead th {\n",
       "        text-align: right;\n",
       "    }\n",
       "</style>\n",
       "<table border=\"1\" class=\"dataframe\">\n",
       "  <thead>\n",
       "    <tr style=\"text-align: right;\">\n",
       "      <th></th>\n",
       "      <th>Postcode</th>\n",
       "      <th>Borough</th>\n",
       "      <th>Neighbourhood</th>\n",
       "    </tr>\n",
       "  </thead>\n",
       "  <tbody>\n",
       "    <tr>\n",
       "      <td>0</td>\n",
       "      <td>M1A</td>\n",
       "      <td>Not assigned</td>\n",
       "      <td>Not assigned</td>\n",
       "    </tr>\n",
       "    <tr>\n",
       "      <td>1</td>\n",
       "      <td>M2A</td>\n",
       "      <td>Not assigned</td>\n",
       "      <td>Not assigned</td>\n",
       "    </tr>\n",
       "    <tr>\n",
       "      <td>2</td>\n",
       "      <td>M3A</td>\n",
       "      <td>North York</td>\n",
       "      <td>Parkwoods</td>\n",
       "    </tr>\n",
       "    <tr>\n",
       "      <td>3</td>\n",
       "      <td>M4A</td>\n",
       "      <td>North York</td>\n",
       "      <td>Victoria Village</td>\n",
       "    </tr>\n",
       "    <tr>\n",
       "      <td>4</td>\n",
       "      <td>M5A</td>\n",
       "      <td>Downtown Toronto</td>\n",
       "      <td>Harbourfront</td>\n",
       "    </tr>\n",
       "  </tbody>\n",
       "</table>\n",
       "</div>"
      ],
      "text/plain": [
       "  Postcode           Borough     Neighbourhood\n",
       "0      M1A      Not assigned      Not assigned\n",
       "1      M2A      Not assigned      Not assigned\n",
       "2      M3A        North York         Parkwoods\n",
       "3      M4A        North York  Victoria Village\n",
       "4      M5A  Downtown Toronto      Harbourfront"
      ]
     },
     "execution_count": 10,
     "metadata": {},
     "output_type": "execute_result"
    }
   ],
   "source": [
    "df.head()"
   ]
  },
  {
   "cell_type": "markdown",
   "metadata": {},
   "source": [
    "## Remove rows where Borough Not Assigned"
   ]
  },
  {
   "cell_type": "code",
   "execution_count": 11,
   "metadata": {},
   "outputs": [],
   "source": [
    "df = df[df.Borough != 'Not assigned']"
   ]
  },
  {
   "cell_type": "code",
   "execution_count": 12,
   "metadata": {},
   "outputs": [
    {
     "data": {
      "text/html": [
       "<div>\n",
       "<style scoped>\n",
       "    .dataframe tbody tr th:only-of-type {\n",
       "        vertical-align: middle;\n",
       "    }\n",
       "\n",
       "    .dataframe tbody tr th {\n",
       "        vertical-align: top;\n",
       "    }\n",
       "\n",
       "    .dataframe thead th {\n",
       "        text-align: right;\n",
       "    }\n",
       "</style>\n",
       "<table border=\"1\" class=\"dataframe\">\n",
       "  <thead>\n",
       "    <tr style=\"text-align: right;\">\n",
       "      <th></th>\n",
       "      <th>Postcode</th>\n",
       "      <th>Borough</th>\n",
       "      <th>Neighbourhood</th>\n",
       "    </tr>\n",
       "  </thead>\n",
       "  <tbody>\n",
       "    <tr>\n",
       "      <td>2</td>\n",
       "      <td>M3A</td>\n",
       "      <td>North York</td>\n",
       "      <td>Parkwoods</td>\n",
       "    </tr>\n",
       "    <tr>\n",
       "      <td>3</td>\n",
       "      <td>M4A</td>\n",
       "      <td>North York</td>\n",
       "      <td>Victoria Village</td>\n",
       "    </tr>\n",
       "    <tr>\n",
       "      <td>4</td>\n",
       "      <td>M5A</td>\n",
       "      <td>Downtown Toronto</td>\n",
       "      <td>Harbourfront</td>\n",
       "    </tr>\n",
       "    <tr>\n",
       "      <td>5</td>\n",
       "      <td>M6A</td>\n",
       "      <td>North York</td>\n",
       "      <td>Lawrence Heights</td>\n",
       "    </tr>\n",
       "    <tr>\n",
       "      <td>6</td>\n",
       "      <td>M6A</td>\n",
       "      <td>North York</td>\n",
       "      <td>Lawrence Manor</td>\n",
       "    </tr>\n",
       "  </tbody>\n",
       "</table>\n",
       "</div>"
      ],
      "text/plain": [
       "  Postcode           Borough     Neighbourhood\n",
       "2      M3A        North York         Parkwoods\n",
       "3      M4A        North York  Victoria Village\n",
       "4      M5A  Downtown Toronto      Harbourfront\n",
       "5      M6A        North York  Lawrence Heights\n",
       "6      M6A        North York    Lawrence Manor"
      ]
     },
     "execution_count": 12,
     "metadata": {},
     "output_type": "execute_result"
    }
   ],
   "source": [
    "df.head()"
   ]
  },
  {
   "cell_type": "markdown",
   "metadata": {},
   "source": [
    "## Group rows with the same Borough and all Neighbourhoods in one row"
   ]
  },
  {
   "cell_type": "code",
   "execution_count": 13,
   "metadata": {},
   "outputs": [
    {
     "name": "stderr",
     "output_type": "stream",
     "text": [
      "/Users/ellu/opt/anaconda3/lib/python3.7/site-packages/ipykernel_launcher.py:1: FutureWarning: using a dict on a Series for aggregation\n",
      "is deprecated and will be removed in a future version. Use                 named aggregation instead.\n",
      "\n",
      "    >>> grouper.agg(name_1=func_1, name_2=func_2)\n",
      "\n",
      "  \"\"\"Entry point for launching an IPython kernel.\n"
     ]
    }
   ],
   "source": [
    "df = df.groupby('Postcode')['Neighbourhood'].agg({'Borough':'first','Neighbourhood': ', '.join}).reset_index()"
   ]
  },
  {
   "cell_type": "code",
   "execution_count": 14,
   "metadata": {},
   "outputs": [
    {
     "data": {
      "text/html": [
       "<div>\n",
       "<style scoped>\n",
       "    .dataframe tbody tr th:only-of-type {\n",
       "        vertical-align: middle;\n",
       "    }\n",
       "\n",
       "    .dataframe tbody tr th {\n",
       "        vertical-align: top;\n",
       "    }\n",
       "\n",
       "    .dataframe thead th {\n",
       "        text-align: right;\n",
       "    }\n",
       "</style>\n",
       "<table border=\"1\" class=\"dataframe\">\n",
       "  <thead>\n",
       "    <tr style=\"text-align: right;\">\n",
       "      <th></th>\n",
       "      <th>Postcode</th>\n",
       "      <th>Borough</th>\n",
       "      <th>Neighbourhood</th>\n",
       "    </tr>\n",
       "  </thead>\n",
       "  <tbody>\n",
       "    <tr>\n",
       "      <td>0</td>\n",
       "      <td>M1B</td>\n",
       "      <td>Rouge</td>\n",
       "      <td>Rouge, Malvern</td>\n",
       "    </tr>\n",
       "    <tr>\n",
       "      <td>1</td>\n",
       "      <td>M1C</td>\n",
       "      <td>Highland Creek</td>\n",
       "      <td>Highland Creek, Rouge Hill, Port Union</td>\n",
       "    </tr>\n",
       "    <tr>\n",
       "      <td>2</td>\n",
       "      <td>M1E</td>\n",
       "      <td>Guildwood</td>\n",
       "      <td>Guildwood, Morningside, West Hill</td>\n",
       "    </tr>\n",
       "    <tr>\n",
       "      <td>3</td>\n",
       "      <td>M1G</td>\n",
       "      <td>Woburn</td>\n",
       "      <td>Woburn</td>\n",
       "    </tr>\n",
       "    <tr>\n",
       "      <td>4</td>\n",
       "      <td>M1H</td>\n",
       "      <td>Cedarbrae</td>\n",
       "      <td>Cedarbrae</td>\n",
       "    </tr>\n",
       "  </tbody>\n",
       "</table>\n",
       "</div>"
      ],
      "text/plain": [
       "  Postcode         Borough                           Neighbourhood\n",
       "0      M1B           Rouge                          Rouge, Malvern\n",
       "1      M1C  Highland Creek  Highland Creek, Rouge Hill, Port Union\n",
       "2      M1E       Guildwood       Guildwood, Morningside, West Hill\n",
       "3      M1G          Woburn                                  Woburn\n",
       "4      M1H       Cedarbrae                               Cedarbrae"
      ]
     },
     "execution_count": 14,
     "metadata": {},
     "output_type": "execute_result"
    }
   ],
   "source": [
    "df.head()"
   ]
  },
  {
   "cell_type": "markdown",
   "metadata": {},
   "source": [
    "## Assign Neighbourhood to Borough where it's Not Assigned"
   ]
  },
  {
   "cell_type": "code",
   "execution_count": 15,
   "metadata": {},
   "outputs": [],
   "source": [
    "df[df.Neighbourhood == 'Not assigned'].Neighbourhood = df[df.Neighbourhood == 'Not assigned'].Borough"
   ]
  },
  {
   "cell_type": "code",
   "execution_count": 16,
   "metadata": {},
   "outputs": [
    {
     "data": {
      "text/plain": [
       "(103, 3)"
      ]
     },
     "execution_count": 16,
     "metadata": {},
     "output_type": "execute_result"
    }
   ],
   "source": [
    "df.shape"
   ]
  },
  {
   "cell_type": "markdown",
   "metadata": {},
   "source": [
    "## Rename columns"
   ]
  },
  {
   "cell_type": "code",
   "execution_count": 28,
   "metadata": {},
   "outputs": [],
   "source": [
    "df.columns = ['PostalCode', 'Borough', 'Neighbourhood']"
   ]
  },
  {
   "cell_type": "code",
   "execution_count": 29,
   "metadata": {},
   "outputs": [
    {
     "data": {
      "text/html": [
       "<div>\n",
       "<style scoped>\n",
       "    .dataframe tbody tr th:only-of-type {\n",
       "        vertical-align: middle;\n",
       "    }\n",
       "\n",
       "    .dataframe tbody tr th {\n",
       "        vertical-align: top;\n",
       "    }\n",
       "\n",
       "    .dataframe thead th {\n",
       "        text-align: right;\n",
       "    }\n",
       "</style>\n",
       "<table border=\"1\" class=\"dataframe\">\n",
       "  <thead>\n",
       "    <tr style=\"text-align: right;\">\n",
       "      <th></th>\n",
       "      <th>PostalCode</th>\n",
       "      <th>Borough</th>\n",
       "      <th>Neighbourhood</th>\n",
       "    </tr>\n",
       "  </thead>\n",
       "  <tbody>\n",
       "    <tr>\n",
       "      <td>0</td>\n",
       "      <td>M1B</td>\n",
       "      <td>Rouge</td>\n",
       "      <td>Rouge, Malvern</td>\n",
       "    </tr>\n",
       "    <tr>\n",
       "      <td>1</td>\n",
       "      <td>M1C</td>\n",
       "      <td>Highland Creek</td>\n",
       "      <td>Highland Creek, Rouge Hill, Port Union</td>\n",
       "    </tr>\n",
       "    <tr>\n",
       "      <td>2</td>\n",
       "      <td>M1E</td>\n",
       "      <td>Guildwood</td>\n",
       "      <td>Guildwood, Morningside, West Hill</td>\n",
       "    </tr>\n",
       "    <tr>\n",
       "      <td>3</td>\n",
       "      <td>M1G</td>\n",
       "      <td>Woburn</td>\n",
       "      <td>Woburn</td>\n",
       "    </tr>\n",
       "    <tr>\n",
       "      <td>4</td>\n",
       "      <td>M1H</td>\n",
       "      <td>Cedarbrae</td>\n",
       "      <td>Cedarbrae</td>\n",
       "    </tr>\n",
       "  </tbody>\n",
       "</table>\n",
       "</div>"
      ],
      "text/plain": [
       "  PostalCode         Borough                           Neighbourhood\n",
       "0        M1B           Rouge                          Rouge, Malvern\n",
       "1        M1C  Highland Creek  Highland Creek, Rouge Hill, Port Union\n",
       "2        M1E       Guildwood       Guildwood, Morningside, West Hill\n",
       "3        M1G          Woburn                                  Woburn\n",
       "4        M1H       Cedarbrae                               Cedarbrae"
      ]
     },
     "execution_count": 29,
     "metadata": {},
     "output_type": "execute_result"
    }
   ],
   "source": [
    "df.head()"
   ]
  },
  {
   "cell_type": "markdown",
   "metadata": {},
   "source": [
    "## Get Coordinates "
   ]
  },
  {
   "cell_type": "code",
   "execution_count": 30,
   "metadata": {},
   "outputs": [],
   "source": [
    "df2 = pd.read_csv('Geospatial_Coordinates.csv')"
   ]
  },
  {
   "cell_type": "code",
   "execution_count": 31,
   "metadata": {},
   "outputs": [],
   "source": [
    "df2.columns = ['PostalCode', 'Lattitude', 'Longitude']"
   ]
  },
  {
   "cell_type": "code",
   "execution_count": 32,
   "metadata": {},
   "outputs": [
    {
     "data": {
      "text/html": [
       "<div>\n",
       "<style scoped>\n",
       "    .dataframe tbody tr th:only-of-type {\n",
       "        vertical-align: middle;\n",
       "    }\n",
       "\n",
       "    .dataframe tbody tr th {\n",
       "        vertical-align: top;\n",
       "    }\n",
       "\n",
       "    .dataframe thead th {\n",
       "        text-align: right;\n",
       "    }\n",
       "</style>\n",
       "<table border=\"1\" class=\"dataframe\">\n",
       "  <thead>\n",
       "    <tr style=\"text-align: right;\">\n",
       "      <th></th>\n",
       "      <th>PostalCode</th>\n",
       "      <th>Lattitude</th>\n",
       "      <th>Longitude</th>\n",
       "    </tr>\n",
       "  </thead>\n",
       "  <tbody>\n",
       "    <tr>\n",
       "      <td>0</td>\n",
       "      <td>M1B</td>\n",
       "      <td>43.806686</td>\n",
       "      <td>-79.194353</td>\n",
       "    </tr>\n",
       "    <tr>\n",
       "      <td>1</td>\n",
       "      <td>M1C</td>\n",
       "      <td>43.784535</td>\n",
       "      <td>-79.160497</td>\n",
       "    </tr>\n",
       "    <tr>\n",
       "      <td>2</td>\n",
       "      <td>M1E</td>\n",
       "      <td>43.763573</td>\n",
       "      <td>-79.188711</td>\n",
       "    </tr>\n",
       "    <tr>\n",
       "      <td>3</td>\n",
       "      <td>M1G</td>\n",
       "      <td>43.770992</td>\n",
       "      <td>-79.216917</td>\n",
       "    </tr>\n",
       "    <tr>\n",
       "      <td>4</td>\n",
       "      <td>M1H</td>\n",
       "      <td>43.773136</td>\n",
       "      <td>-79.239476</td>\n",
       "    </tr>\n",
       "  </tbody>\n",
       "</table>\n",
       "</div>"
      ],
      "text/plain": [
       "  PostalCode  Lattitude  Longitude\n",
       "0        M1B  43.806686 -79.194353\n",
       "1        M1C  43.784535 -79.160497\n",
       "2        M1E  43.763573 -79.188711\n",
       "3        M1G  43.770992 -79.216917\n",
       "4        M1H  43.773136 -79.239476"
      ]
     },
     "execution_count": 32,
     "metadata": {},
     "output_type": "execute_result"
    }
   ],
   "source": [
    "df2.head()"
   ]
  },
  {
   "cell_type": "markdown",
   "metadata": {},
   "source": [
    "## Merge Neighbourhood dataframe with coordinates dataframe"
   ]
  },
  {
   "cell_type": "code",
   "execution_count": 33,
   "metadata": {},
   "outputs": [],
   "source": [
    "res = pd.merge(df, df2)"
   ]
  },
  {
   "cell_type": "code",
   "execution_count": 38,
   "metadata": {},
   "outputs": [
    {
     "data": {
      "text/html": [
       "<div>\n",
       "<style scoped>\n",
       "    .dataframe tbody tr th:only-of-type {\n",
       "        vertical-align: middle;\n",
       "    }\n",
       "\n",
       "    .dataframe tbody tr th {\n",
       "        vertical-align: top;\n",
       "    }\n",
       "\n",
       "    .dataframe thead th {\n",
       "        text-align: right;\n",
       "    }\n",
       "</style>\n",
       "<table border=\"1\" class=\"dataframe\">\n",
       "  <thead>\n",
       "    <tr style=\"text-align: right;\">\n",
       "      <th></th>\n",
       "      <th>PostalCode</th>\n",
       "      <th>Borough</th>\n",
       "      <th>Neighbourhood</th>\n",
       "      <th>Lattitude</th>\n",
       "      <th>Longitude</th>\n",
       "    </tr>\n",
       "  </thead>\n",
       "  <tbody>\n",
       "    <tr>\n",
       "      <td>0</td>\n",
       "      <td>M1B</td>\n",
       "      <td>Rouge</td>\n",
       "      <td>Rouge, Malvern</td>\n",
       "      <td>43.806686</td>\n",
       "      <td>-79.194353</td>\n",
       "    </tr>\n",
       "    <tr>\n",
       "      <td>1</td>\n",
       "      <td>M1C</td>\n",
       "      <td>Highland Creek</td>\n",
       "      <td>Highland Creek, Rouge Hill, Port Union</td>\n",
       "      <td>43.784535</td>\n",
       "      <td>-79.160497</td>\n",
       "    </tr>\n",
       "    <tr>\n",
       "      <td>2</td>\n",
       "      <td>M1E</td>\n",
       "      <td>Guildwood</td>\n",
       "      <td>Guildwood, Morningside, West Hill</td>\n",
       "      <td>43.763573</td>\n",
       "      <td>-79.188711</td>\n",
       "    </tr>\n",
       "    <tr>\n",
       "      <td>3</td>\n",
       "      <td>M1G</td>\n",
       "      <td>Woburn</td>\n",
       "      <td>Woburn</td>\n",
       "      <td>43.770992</td>\n",
       "      <td>-79.216917</td>\n",
       "    </tr>\n",
       "    <tr>\n",
       "      <td>4</td>\n",
       "      <td>M1H</td>\n",
       "      <td>Cedarbrae</td>\n",
       "      <td>Cedarbrae</td>\n",
       "      <td>43.773136</td>\n",
       "      <td>-79.239476</td>\n",
       "    </tr>\n",
       "  </tbody>\n",
       "</table>\n",
       "</div>"
      ],
      "text/plain": [
       "  PostalCode         Borough                           Neighbourhood  \\\n",
       "0        M1B           Rouge                          Rouge, Malvern   \n",
       "1        M1C  Highland Creek  Highland Creek, Rouge Hill, Port Union   \n",
       "2        M1E       Guildwood       Guildwood, Morningside, West Hill   \n",
       "3        M1G          Woburn                                  Woburn   \n",
       "4        M1H       Cedarbrae                               Cedarbrae   \n",
       "\n",
       "   Lattitude  Longitude  \n",
       "0  43.806686 -79.194353  \n",
       "1  43.784535 -79.160497  \n",
       "2  43.763573 -79.188711  \n",
       "3  43.770992 -79.216917  \n",
       "4  43.773136 -79.239476  "
      ]
     },
     "execution_count": 38,
     "metadata": {},
     "output_type": "execute_result"
    }
   ],
   "source": [
    "res.head()"
   ]
  },
  {
   "cell_type": "markdown",
   "metadata": {},
   "source": [
    "## Install folium for creating map"
   ]
  },
  {
   "cell_type": "code",
   "execution_count": 39,
   "metadata": {},
   "outputs": [
    {
     "name": "stdout",
     "output_type": "stream",
     "text": [
      "Collecting package metadata (current_repodata.json): done\n",
      "Solving environment: done\n",
      "\n",
      "## Package Plan ##\n",
      "\n",
      "  environment location: /Users/ellu/opt/anaconda3\n",
      "\n",
      "  added / updated specs:\n",
      "    - folium=0.5.0\n",
      "\n",
      "\n",
      "The following packages will be downloaded:\n",
      "\n",
      "    package                    |            build\n",
      "    ---------------------------|-----------------\n",
      "    conda-4.8.3                |   py37hc8dfbb8_1         3.0 MB  conda-forge\n",
      "    python_abi-3.7             |          1_cp37m           4 KB  conda-forge\n",
      "    ------------------------------------------------------------\n",
      "                                           Total:         3.0 MB\n",
      "\n",
      "The following NEW packages will be INSTALLED:\n",
      "\n",
      "  python_abi         conda-forge/osx-64::python_abi-3.7-1_cp37m\n",
      "\n",
      "The following packages will be UPDATED:\n",
      "\n",
      "  conda                                        4.8.2-py37_0 --> 4.8.3-py37hc8dfbb8_1\n",
      "\n",
      "\n",
      "\n",
      "Downloading and Extracting Packages\n",
      "python_abi-3.7       | 4 KB      | ##################################### | 100% \n",
      "conda-4.8.3          | 3.0 MB    | ##################################### | 100% \n",
      "Preparing transaction: done\n",
      "Verifying transaction: done\n",
      "Executing transaction: done\n",
      "Folium installed and imported!\n"
     ]
    }
   ],
   "source": [
    "!conda install -c conda-forge folium=0.5.0 --yes\n",
    "import folium\n",
    "\n",
    "print('Folium installed and imported!')"
   ]
  },
  {
   "cell_type": "markdown",
   "metadata": {},
   "source": [
    "## Create Toronto map"
   ]
  },
  {
   "cell_type": "code",
   "execution_count": 83,
   "metadata": {},
   "outputs": [],
   "source": [
    "map = folium.Map(location=[43.39, -79.20],\n",
    "zoom_start=11,\n",
    "width='80%',\n",
    "height='80%')"
   ]
  },
  {
   "cell_type": "code",
   "execution_count": 84,
   "metadata": {},
   "outputs": [
    {
     "data": {
      "text/plain": [
       "<folium.map.TileLayer at 0x122549390>"
      ]
     },
     "execution_count": 84,
     "metadata": {},
     "output_type": "execute_result"
    }
   ],
   "source": [
    "folium.TileLayer('Mapbox Bright').add_to(map)"
   ]
  },
  {
   "cell_type": "markdown",
   "metadata": {},
   "source": [
    "## Use Neighbouthood dataframe for coordinates and popup marks"
   ]
  },
  {
   "cell_type": "code",
   "execution_count": 87,
   "metadata": {},
   "outputs": [],
   "source": [
    "latitudes = list(res.Lattitude)\n",
    "longitudes = list(res.Longitude)\n",
    "labels = list(res.Borough)\n",
    "\n",
    "for lat, lng, label in zip(latitudes, longitudes, labels):\n",
    "    folium.Marker([lat, lng], popup=folium.Popup(label, parse_html=True)).add_to(map)    \n",
    "    "
   ]
  },
  {
   "cell_type": "code",
   "execution_count": 82,
   "metadata": {},
   "outputs": [
    {
     "data": {
      "text/html": [
       "<div style=\"width:100%;\"><div style=\"position:relative;width:100%;height:0;padding-bottom:60%;\"><iframe src=\"data:text/html;charset=utf-8;base64,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\" style=\"position:absolute;width:100%;height:100%;left:0;top:0;border:none !important;\" allowfullscreen webkitallowfullscreen mozallowfullscreen></iframe></div></div>"
      ],
      "text/plain": [
       "<folium.folium.Map at 0x12221fe10>"
      ]
     },
     "execution_count": 82,
     "metadata": {},
     "output_type": "execute_result"
    }
   ],
   "source": [
    "map"
   ]
  },
  {
   "cell_type": "code",
   "execution_count": null,
   "metadata": {},
   "outputs": [],
   "source": []
  }
 ],
 "metadata": {
  "kernelspec": {
   "display_name": "Python 3",
   "language": "python",
   "name": "python3"
  },
  "language_info": {
   "codemirror_mode": {
    "name": "ipython",
    "version": 3
   },
   "file_extension": ".py",
   "mimetype": "text/x-python",
   "name": "python",
   "nbconvert_exporter": "python",
   "pygments_lexer": "ipython3",
   "version": "3.7.4"
  }
 },
 "nbformat": 4,
 "nbformat_minor": 4
}
